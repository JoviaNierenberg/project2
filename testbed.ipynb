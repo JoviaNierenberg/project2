{
 "cells": [
  {
   "cell_type": "code",
   "execution_count": 1,
   "id": "77f8b402",
   "metadata": {},
   "outputs": [],
   "source": [
    "import networkx as nx"
   ]
  },
  {
   "cell_type": "code",
   "execution_count": 2,
   "id": "869c99c7",
   "metadata": {},
   "outputs": [],
   "source": [
    "G = nx.read_adjlist(\"data/tiny_network.adjlist\", create_using=nx.DiGraph, delimiter=\";\")"
   ]
  },
  {
   "cell_type": "code",
   "execution_count": 3,
   "id": "50eae1f7",
   "metadata": {},
   "outputs": [
    {
     "data": {
      "text/plain": [
       "['31806696',\n",
       " 'Luke Gilbert',\n",
       " '31486345',\n",
       " 'Michael Keiser',\n",
       " 'Marina Sirota',\n",
       " '29700475',\n",
       " 'Nevan Krogan',\n",
       " '33765435',\n",
       " '32025019',\n",
       " 'Atul Butte',\n",
       " 'Hani Goodarzi',\n",
       " '34272374',\n",
       " '32353859',\n",
       " '30944313',\n",
       " 'Neil Risch',\n",
       " '33483487',\n",
       " 'Martin Kampmann',\n",
       " '30727954',\n",
       " 'Michael McManus',\n",
       " 'Lani Wu',\n",
       " '32042149',\n",
       " '32036252',\n",
       " '33242416',\n",
       " '31395880',\n",
       " '32790644',\n",
       " 'Steven Altschuler',\n",
       " '31540829',\n",
       " '31626775',\n",
       " 'Charles Chiu',\n",
       " '33232663']"
      ]
     },
     "execution_count": 3,
     "metadata": {},
     "output_type": "execute_result"
    }
   ],
   "source": [
    "list(G.nodes)"
   ]
  },
  {
   "cell_type": "code",
   "execution_count": null,
   "id": "f5bde450",
   "metadata": {},
   "outputs": [],
   "source": []
  },
  {
   "cell_type": "code",
   "execution_count": 30,
   "id": "6e57b57c",
   "metadata": {},
   "outputs": [
    {
     "name": "stdout",
     "output_type": "stream",
     "text": [
      "{'33765435': 'Atul Butte', '33242416': 'Atul Butte', '31395880': 'Atul Butte', '30944313': 'Atul Butte', 'Marina Sirota': '33765435'}\n"
     ]
    },
    {
     "data": {
      "text/plain": [
       "['Atul Butte', '33765435', 'Marina Sirota']"
      ]
     },
     "execution_count": 30,
     "metadata": {},
     "output_type": "execute_result"
    }
   ],
   "source": [
    "\n",
    "graph = nx.read_adjlist(\"data/tiny_network.adjlist\", create_using=nx.DiGraph, delimiter=\";\")\n",
    "visited = []\n",
    "queue = []\n",
    "backtrace = {} # keep track of parent nodes\n",
    "path = []\n",
    "\n",
    "# add node with no connections\n",
    "graph.add_node('pineapple')\n",
    "\n",
    "def bfs(start, end=None):\n",
    "    \"\"\"\n",
    "    TODO: write a method that performs a breadth first traversal and pathfinding on graph G\n",
    "\n",
    "    * If there's no end node, just return a list with the order of traversal\n",
    "    * If there is an end node and a path exists, return a list of the shortest path\n",
    "    * If there is an end node and a path does not exist, return None\n",
    "\n",
    "    \"\"\"\n",
    "    # add start node to queue \n",
    "    queue.append(start)\n",
    "\n",
    "    # mark start node as visited\n",
    "    visited.append(start)\n",
    "\n",
    "    if start==end:\n",
    "        return visited\n",
    "\n",
    "    # while there is a queue, dequeue current node and loop through unvisited neighbors of current node\n",
    "    while queue:\n",
    "        just_popped = queue.pop(0) # first in first out\n",
    "        for neighbor in graph.neighbors(just_popped):\n",
    "            if neighbor not in visited:\n",
    "                queue.append(neighbor)\n",
    "                visited.append(neighbor)\n",
    "                backtrace[neighbor]=just_popped # set pointer from neighbor to current (parent) node \n",
    "                \n",
    "                # If there is an end node and a path exists, return a list of the shortest path\n",
    "                if neighbor==end:\n",
    "                    curr_node = end\n",
    "                    path.append(curr_node)\n",
    "                    while curr_node!=start:\n",
    "                        parent = backtrace[curr_node] # identify parent node\n",
    "                        path.append(parent) # add parent node to path\n",
    "                        curr_node = parent # set current node to parent node\n",
    "                    path.reverse() # reverse direction of path\n",
    "                    return path \n",
    "    \n",
    "    # If there's no end node, just return a list with the order of traversal\n",
    "    if end==None:\n",
    "        return visited\n",
    "    \n",
    "    # If there is an end node and a path does not exist, return None\n",
    "    if end not in visited:\n",
    "        return None\n",
    "\n",
    "bfs('Atul Butte', 'Marina Sirota')"
   ]
  },
  {
   "cell_type": "code",
   "execution_count": 43,
   "id": "9378e986",
   "metadata": {},
   "outputs": [
    {
     "data": {
      "text/plain": [
       "['Atul Butte',\n",
       " '33765435',\n",
       " '33242416',\n",
       " '31395880',\n",
       " '30944313',\n",
       " 'Marina Sirota',\n",
       " 'Steven Altschuler',\n",
       " 'Lani Wu',\n",
       " 'Hani Goodarzi',\n",
       " 'Nevan Krogan',\n",
       " '31486345',\n",
       " '32036252',\n",
       " '32042149',\n",
       " '31806696',\n",
       " '30727954',\n",
       " '33232663',\n",
       " '34272374',\n",
       " '32353859',\n",
       " 'Michael Keiser',\n",
       " 'Luke Gilbert',\n",
       " 'Michael McManus',\n",
       " 'Charles Chiu',\n",
       " 'Martin Kampmann',\n",
       " '33483487',\n",
       " '31626775',\n",
       " '31540829',\n",
       " '32025019',\n",
       " '29700475',\n",
       " '32790644',\n",
       " 'Neil Risch']"
      ]
     },
     "execution_count": 43,
     "metadata": {},
     "output_type": "execute_result"
    }
   ],
   "source": [
    "class Graph:\n",
    "    \"\"\"\n",
    "    Class to contain a graph and your bfs function\n",
    "    \"\"\"\n",
    "    def __init__(self, filename: str):\n",
    "        \"\"\"\n",
    "        Initialization of graph object which serves as a container for \n",
    "        methods to load data and \n",
    "        \n",
    "        \"\"\"\n",
    "        self.graph = nx.read_adjlist(filename, create_using=nx.DiGraph, delimiter=\";\")\n",
    "        self.visited = []\n",
    "        self.queue = []\n",
    "        self.backtrace = {} # keep track of parent nodes\n",
    "        self.path = [] # shortest path\n",
    "\n",
    "    def bfs(self, start, end=None):\n",
    "        \"\"\"\n",
    "        TODO: write a method that performs a breadth first traversal and pathfinding on graph G\n",
    "\n",
    "        * If there's no end node, just return a list with the order of traversal\n",
    "        * If there is an end node and a path exists, return a list of the shortest path\n",
    "        * If there is an end node and a path does not exist, return None\n",
    "\n",
    "        \"\"\"\n",
    "        # add start node to queue \n",
    "        self.queue.append(start)\n",
    "\n",
    "        # mark start node as visited\n",
    "        self.visited.append(start)\n",
    "\n",
    "        if start==end:\n",
    "            return self.visited\n",
    "\n",
    "        # while there is a queue, dequeue current node and loop through unvisited neighbors of current node\n",
    "        while self.queue:\n",
    "            just_popped = self.queue.pop(0) # first in first out\n",
    "            for neighbor in self.graph.neighbors(just_popped):\n",
    "                if neighbor not in self.visited:\n",
    "                    self.queue.append(neighbor)\n",
    "                    self.visited.append(neighbor)\n",
    "                    self.backtrace[neighbor]=just_popped # set pointer from neighbor to current (parent) node \n",
    "                    \n",
    "                    # If there is an end node and a path exists, return a list of the shortest path\n",
    "                    if neighbor==end:\n",
    "                        curr_node = end\n",
    "                        self.path.append(curr_node)\n",
    "                        while curr_node!=start:\n",
    "                            parent = backtrace[curr_node] # identify parent node\n",
    "                            self.path.append(parent) # add parent node to path\n",
    "                            curr_node = parent # set current node to parent node\n",
    "                        path.reverse() # reverse direction of path\n",
    "                        return path \n",
    "        \n",
    "        # If there's no end node, just return a list with the order of traversal\n",
    "        if end==None:\n",
    "            return self.visited\n",
    "        \n",
    "        # If there is an end node and a path does not exist, return None\n",
    "        if end not in self.visited:\n",
    "            return None\n",
    "\n",
    "new_instance = Graph(\"data/tiny_network.adjlist\")\n",
    "new_instance.bfs('Atul Butte')"
   ]
  },
  {
   "cell_type": "code",
   "execution_count": null,
   "id": "6c7ebed6",
   "metadata": {},
   "outputs": [],
   "source": []
  },
  {
   "cell_type": "code",
   "execution_count": null,
   "id": "996e4d81",
   "metadata": {},
   "outputs": [],
   "source": []
  }
 ],
 "metadata": {
  "kernelspec": {
   "display_name": "Python 3",
   "language": "python",
   "name": "python3"
  },
  "language_info": {
   "codemirror_mode": {
    "name": "ipython",
    "version": 3
   },
   "file_extension": ".py",
   "mimetype": "text/x-python",
   "name": "python",
   "nbconvert_exporter": "python",
   "pygments_lexer": "ipython3",
   "version": "3.8.5"
  }
 },
 "nbformat": 4,
 "nbformat_minor": 5
}
