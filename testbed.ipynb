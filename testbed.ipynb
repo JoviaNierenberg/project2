{
 "cells": [
  {
   "cell_type": "code",
   "execution_count": 1,
   "id": "db23d67c",
   "metadata": {},
   "outputs": [],
   "source": [
    "import networkx as nx"
   ]
  },
  {
   "cell_type": "code",
   "execution_count": 6,
   "id": "1a4fad90",
   "metadata": {},
   "outputs": [],
   "source": [
    "G = nx.read_adjlist(\"data/tiny_network.adjlist\", create_using=nx.DiGraph, delimiter=\";\")"
   ]
  },
  {
   "cell_type": "code",
   "execution_count": 14,
   "id": "59499e5a",
   "metadata": {},
   "outputs": [
    {
     "data": {
      "text/plain": [
       "AtlasView({'Luke Gilbert': {}})"
      ]
     },
     "execution_count": 14,
     "metadata": {},
     "output_type": "execute_result"
    }
   ],
   "source": [
    "G['31806696']"
   ]
  },
  {
   "cell_type": "code",
   "execution_count": null,
   "id": "f23d3bdb",
   "metadata": {},
   "outputs": [],
   "source": []
  }
 ],
 "metadata": {
  "kernelspec": {
   "display_name": "Python 3",
   "language": "python",
   "name": "python3"
  },
  "language_info": {
   "codemirror_mode": {
    "name": "ipython",
    "version": 3
   },
   "file_extension": ".py",
   "mimetype": "text/x-python",
   "name": "python",
   "nbconvert_exporter": "python",
   "pygments_lexer": "ipython3",
   "version": "3.8.5"
  }
 },
 "nbformat": 4,
 "nbformat_minor": 5
}
